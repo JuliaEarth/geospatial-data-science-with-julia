{
  "cells": [
    {
      "cell_type": "markdown",
      "metadata": {},
      "source": [
        "# What are transforms?\n"
      ],
      "id": "a66e5d87"
    },
    {
      "cell_type": "code",
      "metadata": {},
      "source": [
        "#| echo: false\n",
        "#| output: false\n",
        "import Pkg\n",
        "Pkg.activate(\".\")\n",
        "using GeoStats\n",
        "import CairoMakie as Mke"
      ],
      "id": "a2424449",
      "execution_count": null,
      "outputs": []
    },
    {
      "cell_type": "markdown",
      "metadata": {},
      "source": [
        "## Motivation\n",
        "\n",
        "In **Part I** of the book, we learned that our `GeoTable` representation\n",
        "of geospatial data provides the data access pattern of the `DataFrame`,\n",
        "a feature that is very convenient for data science. To recap, let's\n",
        "consider the following geotable with four random variables:\n"
      ],
      "id": "a480eac0"
    },
    {
      "cell_type": "code",
      "metadata": {},
      "source": [
        "N = 10000\n",
        "a = [2randn(N÷2) .+ 6; randn(N÷2)]\n",
        "b = [3randn(N÷2); 2randn(N÷2)]\n",
        "c = randn(N)\n",
        "d = c .+ 0.6randn(N)\n",
        "\n",
        "table = (; a, b, c, d)\n",
        "\n",
        "gt = georef(table, CartesianGrid(100, 100))"
      ],
      "id": "4b24283f",
      "execution_count": null,
      "outputs": []
    },
    {
      "cell_type": "markdown",
      "metadata": {},
      "source": [
        "We can easily retrieve the \"a\" column of the geotable as a vector,\n",
        "and plot its histogram:\n"
      ],
      "id": "fcf1c99c"
    },
    {
      "cell_type": "code",
      "metadata": {},
      "source": [
        "Mke.hist(gt.a, color = \"gray80\")"
      ],
      "id": "5a2ddd96",
      "execution_count": null,
      "outputs": []
    },
    {
      "cell_type": "markdown",
      "metadata": {},
      "source": [
        "We can compute the cross-correlation between columns \"a\" and \"b\":\n"
      ],
      "id": "306bd34d"
    },
    {
      "cell_type": "code",
      "metadata": {},
      "source": [
        "cor(gt.a, gt.b)"
      ],
      "id": "c33538a2",
      "execution_count": null,
      "outputs": []
    },
    {
      "cell_type": "markdown",
      "metadata": {},
      "source": [
        "And inspect bivariate distributions of the `values` of the geotable\n",
        "with [PairPlots.jl](https://github.com/sefffal/PairPlots.jl) by @Thompson2023:\n"
      ],
      "id": "6df89eed"
    },
    {
      "cell_type": "code",
      "metadata": {},
      "source": [
        "using PairPlots\n",
        "\n",
        "pairplot(values(gt))"
      ],
      "id": "3a70922e",
      "execution_count": null,
      "outputs": []
    },
    {
      "cell_type": "markdown",
      "metadata": {},
      "source": [
        "This pattern is useful to answer geoscientific questions via marginal\n",
        "analysis (i.e. entire columns treated\n",
        "as measurements of a single random variable). However, the answers to many\n",
        "questions in geosciences depend on **where** the measurements were made.\n",
        "\n",
        "Attempting to answer geoscientific questions with basic access to rows and\n",
        "columns can be very frustrating. In particular, this approach is prone to\n",
        "unintentional removal of geospatial information:\n"
      ],
      "id": "6bd3353d"
    },
    {
      "cell_type": "code",
      "metadata": {},
      "source": [
        "gt.a"
      ],
      "id": "6dce8b9c",
      "execution_count": null,
      "outputs": []
    },
    {
      "cell_type": "markdown",
      "metadata": {},
      "source": [
        "::: {.callout-note}\n",
        "\n",
        "Any script that is written in terms of direct column access has the potential\n",
        "to discard the special `geometry` column, and become unreadable very quickly\n",
        "with the use of auxiliary indices for rows.\n",
        "\n",
        ":::\n",
        "\n",
        "We propose a new approach to geospatial data science with the concept of\n",
        "**transforms**, which we introduce in three classes with practical examples:\n",
        "\n",
        "1. Feature transforms\n",
        "2. Geometric transforms\n",
        "3. Geospatial transforms\n",
        "\n",
        "## Feature transforms\n",
        "\n",
        "A feature transform is a function that takes the `values` of the geotable\n",
        "and produces a new set of values over the same geospatial `domain`. The\n",
        "framework provides over 30 such transforms, ranging from basic selection of\n",
        "columns, to data cleaning, to advanced multivariate statistical transforms.\n",
        "\n",
        "### Basic\n",
        "\n",
        "Let's start with two basic and important transforms, `Select` and `Reject`.\n",
        "The `Select` transform can be used to select columns of interest from a\n",
        "geotable:\n"
      ],
      "id": "e6255994"
    },
    {
      "cell_type": "code",
      "metadata": {},
      "source": [
        "gt |> Select(\"a\", \"b\") # select columns \"a\" and \"b\""
      ],
      "id": "3a78dda9",
      "execution_count": null,
      "outputs": []
    },
    {
      "cell_type": "markdown",
      "metadata": {},
      "source": [
        "In the example above, we selected the columns \"a\" and \"b\" explicitly, but \n",
        "`Select` has various methods for more flexible column selection:\n"
      ],
      "id": "9e417166"
    },
    {
      "cell_type": "code",
      "metadata": {},
      "source": [
        "gt |> Select(1:3) # select columns 1 to 3"
      ],
      "id": "36ec4d00",
      "execution_count": null,
      "outputs": []
    },
    {
      "cell_type": "code",
      "metadata": {},
      "source": [
        "gt |> Select(r\"[bcd]\") # columns matching regular expression"
      ],
      "id": "5205abef",
      "execution_count": null,
      "outputs": []
    },
    {
      "cell_type": "markdown",
      "metadata": {},
      "source": [
        "A convenient method is also provided to select and rename columns:\n"
      ],
      "id": "4af8221e"
    },
    {
      "cell_type": "code",
      "metadata": {},
      "source": [
        "gt |> Select(\"a\" => \"A\", \"b\" => \"B\")"
      ],
      "id": "f5f9746f",
      "execution_count": null,
      "outputs": []
    },
    {
      "cell_type": "markdown",
      "metadata": {},
      "source": [
        "The `Reject` transform can be used to reject columns from a geotable\n",
        "that are not relevant for a given analysis. It supports the same column\n",
        "specification of `Select`:\n"
      ],
      "id": "12546dcc"
    },
    {
      "cell_type": "code",
      "metadata": {},
      "source": [
        "gt |> Reject(\"b\") # reject column \"b\""
      ],
      "id": "9d3ad799",
      "execution_count": null,
      "outputs": []
    },
    {
      "cell_type": "markdown",
      "metadata": {},
      "source": [
        "::: {.callout-note}\n",
        "\n",
        "Unlike direct column access, the `Select` and `Reject` transforms\n",
        "preserve geospatial information.\n",
        "\n",
        ":::\n",
        "\n",
        "::: {.callout-note}\n",
        "\n",
        "## Tip for all users\n",
        "\n",
        "The `Select` transform can be used in conjunction with the `viewer`\n",
        "to quickly visualize a specific variable:\n"
      ],
      "id": "e0052404"
    },
    {
      "cell_type": "code",
      "metadata": {},
      "source": [
        "gt |> Select(\"a\") |> viewer"
      ],
      "id": "894ed88d",
      "execution_count": null,
      "outputs": []
    },
    {
      "cell_type": "markdown",
      "metadata": {},
      "source": [
        ":::\n",
        "\n",
        "The `Rename` transform can be used to rename specific columns of a geotable.\n",
        "It preserves all other columns that are not part of the column specification:\n"
      ],
      "id": "2eecc59f"
    },
    {
      "cell_type": "code",
      "metadata": {},
      "source": [
        "gt |> Rename(\"a\" => \"A\", \"b\" => \"B\")"
      ],
      "id": "603275a9",
      "execution_count": null,
      "outputs": []
    },
    {
      "cell_type": "markdown",
      "metadata": {},
      "source": [
        "The `Identity` transform can be used as a placeholder to forward the geotable\n",
        "without modifications to the next transform:\n"
      ],
      "id": "b7408981"
    },
    {
      "cell_type": "code",
      "metadata": {},
      "source": [
        "gt |> Identity()"
      ],
      "id": "0af3c3a8",
      "execution_count": null,
      "outputs": []
    },
    {
      "cell_type": "markdown",
      "metadata": {},
      "source": [
        "The `RowTable` and `ColTable` transforms change the underlying table representation\n",
        "of the `values` of the geotable as discussed in the first chapter of the book:\n"
      ],
      "id": "f3294de7"
    },
    {
      "cell_type": "code",
      "metadata": {},
      "source": [
        "rt = gt |> RowTable()"
      ],
      "id": "c754dd87",
      "execution_count": null,
      "outputs": []
    },
    {
      "cell_type": "code",
      "metadata": {},
      "source": [
        "rt |> values |> typeof"
      ],
      "id": "163efdc7",
      "execution_count": null,
      "outputs": []
    },
    {
      "cell_type": "markdown",
      "metadata": {},
      "source": [
        "The `Functional` transform can be used to apply a function to columns of a geotable in place:\n"
      ],
      "id": "a0b49251"
    },
    {
      "cell_type": "code",
      "metadata": {},
      "source": [
        "gt |> Functional(cos) |> values |> pairplot"
      ],
      "id": "7bab8604",
      "execution_count": null,
      "outputs": []
    },
    {
      "cell_type": "code",
      "metadata": {},
      "source": [
        "gt |> Functional(\"a\" => cos, \"b\" => sin) |> values |> pairplot"
      ],
      "id": "8993a9f5",
      "execution_count": null,
      "outputs": []
    },
    {
      "cell_type": "markdown",
      "metadata": {},
      "source": [
        "The `Map` transform can be used to create new columns from existing columns in the geotable.\n",
        "It takes a column specification, calls a function on the selected columns row-by-row, and returns\n",
        "the result as a new column:\n"
      ],
      "id": "e63cd37d"
    },
    {
      "cell_type": "code",
      "metadata": {},
      "source": [
        "gt |> Map(\"a\" => sin, \"b\" => cos => \"cos(b)\")"
      ],
      "id": "23af2353",
      "execution_count": null,
      "outputs": []
    },
    {
      "cell_type": "code",
      "metadata": {},
      "source": [
        "gt |> Map([2, 3] => ((b, c) -> 2b + c) => \"f(b, c)\")"
      ],
      "id": "25789035",
      "execution_count": null,
      "outputs": []
    },
    {
      "cell_type": "markdown",
      "metadata": {},
      "source": [
        "The name of the resulting column can be provided or omitted. If the name is omitted like in the\n",
        "example above with the column \"a\", it is created by concatenation of column and function names.\n",
        "\n",
        "::: {.callout-note}\n",
        "\n",
        "The `Map` transform mimics the behavior of the `transform` function in DataFrames.jl, except\n",
        "that it always broadcasts the functions to the rows of the selected columns and always produces\n",
        "a single column for each function.\n",
        "\n",
        "::: \n",
        "\n",
        "To filter rows in the geotable based on a given predicate (i.e., a function that returns\n",
        "`true` or `false`), we can use the `Filter` transform:\n"
      ],
      "id": "6db65ad8"
    },
    {
      "cell_type": "code",
      "metadata": {},
      "source": [
        "gt |> Filter(row -> row.a < 0 && row.b > 0)"
      ],
      "id": "8a3dc520",
      "execution_count": null,
      "outputs": []
    },
    {
      "cell_type": "markdown",
      "metadata": {},
      "source": [
        "To sort rows based on specific columns we can use the `Sort` transform:\n"
      ],
      "id": "56097cd5"
    },
    {
      "cell_type": "code",
      "metadata": {},
      "source": [
        "gt |> Sort(\"a\", \"b\")"
      ],
      "id": "5af66e61",
      "execution_count": null,
      "outputs": []
    },
    {
      "cell_type": "markdown",
      "metadata": {},
      "source": [
        "This transform accepts all options of the `sortperm` function in Julia, including the\n",
        "option to sort in reverse order:\n"
      ],
      "id": "2e6f1dbb"
    },
    {
      "cell_type": "code",
      "metadata": {},
      "source": [
        "gt |> Sort(\"a\", \"b\", rev=true)"
      ],
      "id": "4a98766f",
      "execution_count": null,
      "outputs": []
    },
    {
      "cell_type": "markdown",
      "metadata": {},
      "source": [
        "### Cleaning\n",
        "\n",
        "Some feature transforms are used to clean the data before geostatistical analysis. \n",
        "For example, the `StdNames` transform can be used to standardize variable names\n",
        "that are not very readable due to file format limitations. To illustrate this\n",
        "transform, let's create a geotable with unreadable variable names:\n"
      ],
      "id": "5d57e4e5"
    },
    {
      "cell_type": "code",
      "metadata": {},
      "source": [
        "ut = gt |> Select(\"a\" => \"aBc De-F\", \"b\" => \"b_2 (1)\")"
      ],
      "id": "1cb3dd1a",
      "execution_count": null,
      "outputs": []
    },
    {
      "cell_type": "markdown",
      "metadata": {},
      "source": [
        "We can standardize the names with:\n"
      ],
      "id": "cb7e4ff5"
    },
    {
      "cell_type": "code",
      "metadata": {},
      "source": [
        "ut |> StdNames()"
      ],
      "id": "eead7fee",
      "execution_count": null,
      "outputs": []
    },
    {
      "cell_type": "markdown",
      "metadata": {},
      "source": [
        "By default the transform, uses the `:uppersnake` naming convention. Other conventions\n",
        "can be specified depending on personal preference:\n"
      ],
      "id": "03c3f351"
    },
    {
      "cell_type": "code",
      "metadata": {},
      "source": [
        "ut |> StdNames(:uppercamel)"
      ],
      "id": "4b321524",
      "execution_count": null,
      "outputs": []
    },
    {
      "cell_type": "code",
      "metadata": {},
      "source": [
        "ut |> StdNames(:upperflat)"
      ],
      "id": "4622b5fa",
      "execution_count": null,
      "outputs": []
    },
    {
      "cell_type": "markdown",
      "metadata": {},
      "source": [
        "The `Replace` transform can be used to replace specific values in the geotable by new\n",
        "values that are meaningful to the analysis. For example, we can replace the values\n",
        "`-999` and `NaN` that are used to represent `missing` values in some file formats:\n"
      ],
      "id": "b04fc6b3"
    },
    {
      "cell_type": "code",
      "metadata": {},
      "source": [
        "rt = georef((a=[1,-999,3], b=[NaN,5,6]))"
      ],
      "id": "d855813a",
      "execution_count": null,
      "outputs": []
    },
    {
      "cell_type": "code",
      "metadata": {},
      "source": [
        "rt |> Replace(-999 => missing, NaN => missing)"
      ],
      "id": "21d3ffa7",
      "execution_count": null,
      "outputs": []
    },
    {
      "cell_type": "markdown",
      "metadata": {},
      "source": [
        "or replace all negative values using a predicate function:\n"
      ],
      "id": "dd51c5c9"
    },
    {
      "cell_type": "code",
      "metadata": {},
      "source": [
        "rt |> Replace(<(0) => missing)"
      ],
      "id": "ab5d5e3d",
      "execution_count": null,
      "outputs": []
    },
    {
      "cell_type": "markdown",
      "metadata": {},
      "source": [
        "::: {.callout-note}\n",
        "\n",
        "In Julia, the expression `<(0)` is equivalent to the predicate function `x -> x < 0`.\n",
        "\n",
        ":::\n",
        "\n",
        "Although `Replace` could be used to replace `missing` values by new values, there is\n",
        "a specific transform for this purpose named `Coalesce`:\n"
      ],
      "id": "eb5f217c"
    },
    {
      "cell_type": "code",
      "metadata": {},
      "source": [
        "ct = georef((a=[1,missing,3], b=[4,5,6])) |> Coalesce(value=2)"
      ],
      "id": "b980da4c",
      "execution_count": null,
      "outputs": []
    },
    {
      "cell_type": "markdown",
      "metadata": {},
      "source": [
        "::: {.callout-note}\n",
        "\n",
        "Unlike `Replace`, the `Coalesce` transform also changes the column type to make sure that\n",
        "no `missing` values can be stored in the future:\n"
      ],
      "id": "c999d21a"
    },
    {
      "cell_type": "code",
      "metadata": {},
      "source": [
        "typeof(ct.a)"
      ],
      "id": "a503f4ff",
      "execution_count": null,
      "outputs": []
    },
    {
      "cell_type": "markdown",
      "metadata": {},
      "source": [
        ":::\n",
        "\n",
        "In many applications, it is enough to simply drop all rows for which the selected column\n",
        "values are `missing`. This is the purpose of the `DropMissing` transform:\n"
      ],
      "id": "185cf70e"
    },
    {
      "cell_type": "code",
      "metadata": {},
      "source": [
        "georef((a=[1,missing,3], b=[4,5,6])) |> DropMissing()"
      ],
      "id": "d7dfff50",
      "execution_count": null,
      "outputs": []
    },
    {
      "cell_type": "markdown",
      "metadata": {},
      "source": [
        "The `DropNaN` is an alternative to drop all rows for which the selected column values\n",
        "are `NaN`.\n",
        "\n",
        "### Statistical\n",
        "\n",
        "The framework provides various feature transforms for statistical analysis. We will\n",
        "cover some of these transforms in more detail in **Part V** of the book with real data.\n",
        "In the following examples we illustrate the most basic statistical transforms with\n",
        "synthetic data.\n",
        "\n",
        "The `Sample` transform can be used to sample rows of the geotable at random, with\n",
        "or without replacement depending on the `replace` option. Other options are available\n",
        "such as `rng` to set the random number generator and `ordered` to preserve the order\n",
        "of rows in the original geotable:\n"
      ],
      "id": "9f4f25f5"
    },
    {
      "cell_type": "code",
      "metadata": {},
      "source": [
        "gt |> Sample(1000, replace=false) |> viewer"
      ],
      "id": "596245e8",
      "execution_count": null,
      "outputs": []
    },
    {
      "cell_type": "markdown",
      "metadata": {},
      "source": [
        "::: {.callout-note}\n",
        "\n",
        "Similar to `Filter` and `Sort`, the `Sample` transform is lazy.\n",
        "It simply stores the indices of sampled rows for future construction\n",
        "of the new geotable.\n",
        "\n",
        ":::\n",
        "\n",
        "The `Center` and `Scale` transforms can be used to standardize the range of values\n",
        "in a geotable. Aliases are provided for specific types of `Scale` such as `MinMax`\n",
        "and `Interquartile`. We can use the `describe` function to visualize basic statistics\n",
        "before and after the transforms:\n"
      ],
      "id": "359bd351"
    },
    {
      "cell_type": "code",
      "metadata": {},
      "source": [
        "gt |> describe"
      ],
      "id": "480d8792",
      "execution_count": null,
      "outputs": []
    },
    {
      "cell_type": "code",
      "metadata": {},
      "source": [
        "gt |> Center(\"a\") |> describe"
      ],
      "id": "0d183c54",
      "execution_count": null,
      "outputs": []
    },
    {
      "cell_type": "code",
      "metadata": {},
      "source": [
        "gt |> MinMax() |> describe"
      ],
      "id": "566c079a",
      "execution_count": null,
      "outputs": []
    },
    {
      "cell_type": "markdown",
      "metadata": {},
      "source": [
        "The `ZScore` transform is similar to the `Scale` transform, but it uses the mean\n",
        "and the standard deviation to standardize the range:\n"
      ],
      "id": "a5159f6e"
    },
    {
      "cell_type": "code",
      "metadata": {},
      "source": [
        "gt |> ZScore() |> describe"
      ],
      "id": "b79304c2",
      "execution_count": null,
      "outputs": []
    },
    {
      "cell_type": "markdown",
      "metadata": {},
      "source": [
        "Another important univariate transform is the `Quantile` transform, which can be\n",
        "used to convert empirical distribution in a column of the geotable to any given\n",
        "distribution from [Distributions.jl](https://github.com/JuliaStats/Distributions.jl)\n",
        "by @Lin2023. Selected columns are converted to a `Normal` distribution by default,\n",
        "but more than 60 distributions are available:\n"
      ],
      "id": "f38a7a66"
    },
    {
      "cell_type": "code",
      "metadata": {},
      "source": [
        "gt |> Quantile() |> values |> pairplot"
      ],
      "id": "7bd18d32",
      "execution_count": null,
      "outputs": []
    },
    {
      "cell_type": "markdown",
      "metadata": {},
      "source": [
        "In data science, scientific traits are used to link data types to adequate statistical\n",
        "algorithms. The most popular scientific traits encountered in geoscientific applications\n",
        "are the `Continuous` and the `Categorical` scientific traits. To convert (or coerce) the\n",
        "scientific traits of columns in a geotable, we can use the `Coerce` transform:\n"
      ],
      "id": "70208771"
    },
    {
      "cell_type": "code",
      "metadata": {},
      "source": [
        "using GeoStats.DataScienceTraits: Continuous\n",
        "\n",
        "st = georef((a=[1,2,2,2,3,3], b=[1,2,3,4,5,6])) |> Coerce(\"b\" => Continuous)"
      ],
      "id": "eb0a45e7",
      "execution_count": null,
      "outputs": []
    },
    {
      "cell_type": "code",
      "metadata": {},
      "source": [
        "eltype(st.b)"
      ],
      "id": "1569752e",
      "execution_count": null,
      "outputs": []
    },
    {
      "cell_type": "markdown",
      "metadata": {},
      "source": [
        "::: {.callout-note}\n",
        "\n",
        "All scientific traits are documented in the\n",
        "[DataScienceTraits.jl](https://github.com/JuliaML/DataScienceTraits.jl)\n",
        "module.\n",
        "\n",
        ":::\n",
        "\n",
        "The `Levels` transform can be used to adjust the categories (or levels)\n",
        "of `Categorical` columns in case the sampling process does not include\n",
        "all possible values:\n"
      ],
      "id": "0afdb79f"
    },
    {
      "cell_type": "code",
      "metadata": {},
      "source": [
        "st = st |> Levels(\"a\" => [1,2,3,4])"
      ],
      "id": "c5050c76",
      "execution_count": null,
      "outputs": []
    },
    {
      "cell_type": "code",
      "metadata": {},
      "source": [
        "levels(st.a)"
      ],
      "id": "ced040d2",
      "execution_count": null,
      "outputs": []
    },
    {
      "cell_type": "markdown",
      "metadata": {},
      "source": [
        "Another popular transform in statistical learning is the `OneHot` transform.\n",
        "It converts a `Categorical` column into multiple columns of `true`/`false`\n",
        "values, one column for each level:\n"
      ],
      "id": "532280ec"
    },
    {
      "cell_type": "code",
      "metadata": {},
      "source": [
        "st |> OneHot(\"a\")"
      ],
      "id": "f4639cc8",
      "execution_count": null,
      "outputs": []
    },
    {
      "cell_type": "markdown",
      "metadata": {},
      "source": [
        "A similar transform for `Continuous` columns is the `Indicator` transform.\n",
        "It converts the column into multiple columns based on threshold values on\n",
        "the support of the data. By default, the threshold values are computed on\n",
        "a quantile `scale`:\n"
      ],
      "id": "214f1010"
    },
    {
      "cell_type": "code",
      "metadata": {},
      "source": [
        "st |> Indicator(\"b\", k=3, scale=:quantile)"
      ],
      "id": "3bdf3270",
      "execution_count": null,
      "outputs": []
    },
    {
      "cell_type": "markdown",
      "metadata": {},
      "source": [
        "More advanced statistical transforms such as `EigenAnalysis`, `PCA`,\n",
        "`DRS`, `SDS`, `ProjectionPursuit` for multivariate data analysis and\n",
        "`Remainder`, `Closure`, `LogRatio`, `ALR`, `CLR`, `ILR` for compositional\n",
        "data analysis will be covered in future chapters.\n",
        "\n",
        "## Geometric transforms\n",
        "\n",
        "While feature transforms operate on the `values` of the geotable, geometric\n",
        "transforms operate on the geospatial `domain`. The framework provides various\n",
        "geometric transforms for 2D and 3D space.\n",
        "\n",
        "### Coordinate\n",
        "\n",
        "A coordinate transform is a geometric transform that modifies the coordinates\n",
        "of all points in the domain without any advanced topological modification (i.e.,\n",
        "connectivities are preserved). The most prominent examples of coordinate\n",
        "transforms are `Translate`, `Rotate` and `Scale`.\n",
        "\n",
        "Let's load an additional geotable to see these transforms in action:\n"
      ],
      "id": "99cdcaeb"
    },
    {
      "cell_type": "code",
      "metadata": {},
      "source": [
        "using GeoIO\n",
        "\n",
        "bt = GeoIO.load(\"data/beethoven.ply\")\n",
        "\n",
        "viz(bt.geometry)"
      ],
      "id": "75dda0ab",
      "execution_count": null,
      "outputs": []
    },
    {
      "cell_type": "markdown",
      "metadata": {},
      "source": [
        "The Beethoven domain has been saved in the `.ply` file in a position that is\n",
        "not ideal for visualization. We can rotate this domain with any active rotation\n",
        "specification from [Rotations.jl](https://github.com/JuliaGeometry/Rotations.jl)\n",
        "by @Koolen2023 to improve the visualization. For example, we can specify that we\n",
        "want to rotate all points in the mesh by analogy with a rotation between coordinates\n",
        "`(0, 1, 0)` and coordinates `(0, 0, 1)`:\n"
      ],
      "id": "f87f1d1a"
    },
    {
      "cell_type": "code",
      "metadata": {},
      "source": [
        "rt = bt |> Rotate((0, 1, 0), (0, 0, 1))\n",
        "\n",
        "viz(rt.geometry)"
      ],
      "id": "8f766b48",
      "execution_count": null,
      "outputs": []
    },
    {
      "cell_type": "markdown",
      "metadata": {},
      "source": [
        "Beethoven is now standing up, but still facing the wall. Let's rotate it once\n",
        "again by analogy between coordinates `(1, 0, 0)` and `(-1, 1, 0)`:\n"
      ],
      "id": "b334e172"
    },
    {
      "cell_type": "code",
      "metadata": {},
      "source": [
        "rt = rt |> Rotate((1, 0, 0), (-1, 1, 0))\n",
        "\n",
        "viz(rt.geometry)"
      ],
      "id": "6e9346a0",
      "execution_count": null,
      "outputs": []
    },
    {
      "cell_type": "markdown",
      "metadata": {},
      "source": [
        "Rotation specifications are also available in 2D space. As an example, we can\n",
        "rotate the 2D grid of our synthetic geotable by the counter clockwise angle `π/4`:\n"
      ],
      "id": "a631099c"
    },
    {
      "cell_type": "code",
      "metadata": {},
      "source": [
        "gt |> Rotate(Angle2d(π/4)) |> viewer"
      ],
      "id": "fe768c69",
      "execution_count": null,
      "outputs": []
    },
    {
      "cell_type": "markdown",
      "metadata": {},
      "source": [
        "In GIS, this new geotable would be called a rotated \"raster\". As another example,\n",
        "let's translate the geotable to the origin of the coordinate system with the\n",
        "`Translate` transform:\n"
      ],
      "id": "4ef77a9a"
    },
    {
      "cell_type": "code",
      "metadata": {},
      "source": [
        "c = centroid(gt.geometry)\n",
        "\n",
        "gt |> Translate(-coordinates(c)...) |> viewer"
      ],
      "id": "c21e6453",
      "execution_count": null,
      "outputs": []
    },
    {
      "cell_type": "markdown",
      "metadata": {},
      "source": [
        "and scale it with a positive factor for each dimension:\n"
      ],
      "id": "29105f11"
    },
    {
      "cell_type": "code",
      "metadata": {},
      "source": [
        "gt |> Scale(0.1, 0.2) |> viewer"
      ],
      "id": "a10871bc",
      "execution_count": null,
      "outputs": []
    },
    {
      "cell_type": "markdown",
      "metadata": {},
      "source": [
        "The `StdCoords` transform combines `Translate` and `Scale` to standardize\n",
        "the coordinates of the domain to the interval `[-0.5, 0.5]`:\n"
      ],
      "id": "d612cbcc"
    },
    {
      "cell_type": "code",
      "metadata": {},
      "source": [
        "gt |> StdCoords() |> viewer"
      ],
      "id": "335bacf3",
      "execution_count": null,
      "outputs": []
    },
    {
      "cell_type": "markdown",
      "metadata": {},
      "source": [
        "In GIS, another very important coordinate transform is the `Proj` transform.\n",
        "We will cover this transform in the next chapter because it depends on the concept\n",
        "of [map projection](https://en.wikipedia.org/wiki/Map_projection), which deserves\n",
        "more attention.\n",
        "\n",
        "::: {.callout-note}\n",
        "\n",
        "In our framework, the `Proj` transform is just another coordinate transform.\n",
        "It is implemented with the same code optimizations, and can be used in conjunction\n",
        "with many other transforms that are not available elsewhere.\n",
        "\n",
        ":::\n",
        "\n",
        "### Advanced\n",
        "\n",
        "Advanced geometric transforms are provided that change the topology of the `domain`\n",
        "besides the coordinates of points. Some of these transforms can be useful to repair\n",
        "problematic geometries acquired from sensors in the real world.\n",
        "\n",
        "The `Repair` transform is parameterized by an integer `K` that identifies the repair\n",
        "to be performed. For example, `Repair{0}()` is a transform that removes duplicated\n",
        "vertices and faces in a domain represented by a mesh. The `Repair{9}()` on the other\n",
        "hand fixes the orientation of rings in polygonal areas so that the external boundary\n",
        "is oriented counter clockwise and the inner boundaries are oriented clockwise. The\n",
        "list of available repairs will continue to grow with the implementation of new\n",
        "geometric algorithms in the framework.\n",
        "\n",
        "To understand why geometric transforms are more general than coordinate transforms,\n",
        "let's consider the following polygonal area with holes:\n"
      ],
      "id": "cd772ea8"
    },
    {
      "cell_type": "code",
      "metadata": {},
      "source": [
        "outer = [(0.0, 0.0), (1.0, 0.0), (1.0, 1.0), (0.0, 1.0)]\n",
        "hole1 = [(0.2, 0.2), (0.4, 0.2), (0.4, 0.4), (0.2, 0.4)]\n",
        "hole2 = [(0.6, 0.2), (0.8, 0.2), (0.8, 0.4), (0.6, 0.4)]\n",
        "poly  = PolyArea([outer, hole1, hole2])\n",
        "\n",
        "viz(poly)"
      ],
      "id": "4714be7f",
      "execution_count": null,
      "outputs": []
    },
    {
      "cell_type": "markdown",
      "metadata": {},
      "source": [
        "We can connect the holes with the external boundary (or ring) using the `Bridge` transform:\n"
      ],
      "id": "c5f4a8c7"
    },
    {
      "cell_type": "code",
      "metadata": {},
      "source": [
        "poly |> Bridge(0.01) |> viz"
      ],
      "id": "c2deaf98",
      "execution_count": null,
      "outputs": []
    },
    {
      "cell_type": "markdown",
      "metadata": {},
      "source": [
        "By looking at the visualization, we observe that the number of vertices changed to accommodate\n",
        "the so called \"bridges\" between the rings. The topology also changed as there are no holes in\n",
        "the resulting geometry.\n",
        "\n",
        "As a final example of advanced geometric transform, we illustrate the `TaubinSmoothing` transform,\n",
        "which gradually removes sharp boundaries of a manifold mesh:\n"
      ],
      "id": "44c0779f"
    },
    {
      "cell_type": "code",
      "metadata": {},
      "source": [
        "st = bt |> TaubinSmoothing(30)\n",
        "\n",
        "fig = Mke.Figure()\n",
        "viz(fig[1,1], bt.geometry)\n",
        "viz(fig[1,2], st.geometry)\n",
        "fig"
      ],
      "id": "2a8a8f35",
      "execution_count": null,
      "outputs": []
    },
    {
      "cell_type": "markdown",
      "metadata": {},
      "source": [
        "For more advanced geometric transforms, please consult the official documentation.\n",
        "\n",
        "## Geospatial transforms\n",
        "\n",
        "Geospatial transforms are those transforms that operate on both the `values` **and** the `domain`\n",
        "of the geotable. They are common in geostatistical workflows that need to remove geospatial \"trends\"\n",
        "or workflows that need to extract geometries from domains.\n",
        "\n",
        "As an example, let's consider the following geotable with a variable `z` that made of a trend component\n",
        "`μ` and a noise component `ϵ`:\n"
      ],
      "id": "2e8a66d3"
    },
    {
      "cell_type": "code",
      "metadata": {},
      "source": [
        "# quadratic + noise\n",
        "r = range(-1, stop=1, length=100)\n",
        "μ = [x^2 + y^2 for x in r, y in r]\n",
        "ϵ = 0.1rand(100, 100)\n",
        "t = georef((z=μ+ϵ,))\n",
        "\n",
        "viewer(t)"
      ],
      "id": "b633cd31",
      "execution_count": null,
      "outputs": []
    },
    {
      "cell_type": "markdown",
      "metadata": {},
      "source": [
        "We can use the `Detrend` transform to remove a trend of polynomial degree `2`:\n"
      ],
      "id": "9a4c385f"
    },
    {
      "cell_type": "code",
      "metadata": {},
      "source": [
        "t |> Detrend(degree=2) |> viewer"
      ],
      "id": "f797a932",
      "execution_count": null,
      "outputs": []
    },
    {
      "cell_type": "markdown",
      "metadata": {},
      "source": [
        "The remaining component can then be modeled with geostatistical models of geospatial correlation,\n",
        "which will be covered in **Part IV** of the book.\n",
        "\n",
        "Models of geospatial correlation such as variograms [@Hoffimann2019] require unique coordinates\n",
        "in the geotable and that is the purpose of the `UniqueCoords` transform. It removes duplicate\n",
        "points in the geotable and aggregates the `values` with custom aggregation functions.\n",
        "\n",
        "Let's consider the following geotable stored in a `.png` file to illustrate another geospatial\n",
        "transform:\n"
      ],
      "id": "24e38e44"
    },
    {
      "cell_type": "code",
      "metadata": {},
      "source": [
        "letters = GeoIO.load(\"data/letters.png\")"
      ],
      "id": "583df7be",
      "execution_count": null,
      "outputs": []
    },
    {
      "cell_type": "markdown",
      "metadata": {},
      "source": [
        "The `Potrace` transform can be used to extract complex geometries from a geotable over a 2D `Grid`.\n",
        "It transforms the `Grid` domain into a `GeometrySet` based on any column that contains a discrete\n",
        "set of marker values. In this example, we use the `color` as the column with markers:\n"
      ],
      "id": "9d50fbe7"
    },
    {
      "cell_type": "code",
      "metadata": {},
      "source": [
        "Ab = letters |> Potrace(\"color\", ϵ=0.8)"
      ],
      "id": "4250a77d",
      "execution_count": null,
      "outputs": []
    },
    {
      "cell_type": "markdown",
      "metadata": {},
      "source": [
        "The option `ϵ` controls the deviation tolerance used to simplify the boundaries of the geometries.\n",
        "The higher is the tolerance, the less is the number of segments in the boundary:\n"
      ],
      "id": "2379ba62"
    },
    {
      "cell_type": "code",
      "metadata": {},
      "source": [
        "viz(Ab.geometry[2], color = \"black\")"
      ],
      "id": "e92eb7cc",
      "execution_count": null,
      "outputs": []
    },
    {
      "cell_type": "markdown",
      "metadata": {},
      "source": [
        "In the reverse direction, we have the `Rasterize` transform, which takes a geotable over a `GeometrySet`\n",
        "and assigns the geometries to a `Grid`. In this transform, we can either provide an external grid for the\n",
        "the assignments, or request a grid size to discretize the `boundingbox` of all geometries:\n"
      ],
      "id": "2fff4dad"
    },
    {
      "cell_type": "code",
      "metadata": {},
      "source": [
        "A = [1, 2, 3, 4, 5]\n",
        "B = [1.1, 2.2, 3.3, 4.4, 5.5]\n",
        "p1 = PolyArea((2, 0), (6, 2), (2, 2))\n",
        "p2 = PolyArea((0, 6), (3, 8), (0, 10))\n",
        "p3 = PolyArea((3, 6), (9, 6), (9, 9), (6, 9))\n",
        "p4 = PolyArea((7, 0), (10, 0), (10, 4), (7, 4))\n",
        "p5 = PolyArea((1, 3), (5, 3), (6, 6), (3, 8), (0, 6))\n",
        "gt = georef((; A, B), [p1, p2, p3, p4, p5])"
      ],
      "id": "4ebafe6b",
      "execution_count": null,
      "outputs": []
    },
    {
      "cell_type": "code",
      "metadata": {},
      "source": [
        "gt |> viewer"
      ],
      "id": "da46df52",
      "execution_count": null,
      "outputs": []
    },
    {
      "cell_type": "code",
      "metadata": {},
      "source": [
        "nt = gt |> Rasterize(20, 20)"
      ],
      "id": "b1f5ba5c",
      "execution_count": null,
      "outputs": []
    },
    {
      "cell_type": "code",
      "metadata": {},
      "source": [
        "nt |> viewer"
      ],
      "id": "54a086e3",
      "execution_count": null,
      "outputs": []
    },
    {
      "cell_type": "markdown",
      "metadata": {},
      "source": [
        "The values of the variables are aggregated at geometric intersections using a default aggregation function,\n",
        "which can be overwritten with an option. Once the geotable is defined over a `Grid`, it is possible to\n",
        "refine or coarsen the grid with the `Downscale` and `Upscale` transforms.\n",
        "\n",
        "The `Transfer` of values to a new geospatial domain is another very useful geospatial transform. The\n",
        "`Aggregate` transform is related, but aggregates the values with given aggregation functions.\n",
        "\n",
        "## Remarks\n",
        "\n",
        "In this chapter we learned the important concept of **transforms**,\n",
        "and saw examples of the concept in action with synthetic data. In\n",
        "order to leverage the large number of transforms implemented in the\n",
        "framework, all we need to do is load our geospatial data as a geotable\n",
        "using `georef` or GeoIO.jl.\n",
        "\n",
        "Some additional remarks:\n",
        "\n",
        "- One of the major advantages of transforms compared to traditional row/column\n",
        "  access in data science is that they **preserve geospatial information**.\n",
        "  There is no need to keep track of indices in arrays to repeatedly\n",
        "  reattach values to geometries.\n",
        "- Transforms can be organized into three classes---feature, geometric and\n",
        "  geospatial---depending on how they operate with the `values` and the\n",
        "  `domain` of the geotable:\n",
        "  - **Feature** transforms operate on the `values`. They include column selection,\n",
        "    data cleaning, statistical analysis and any transform designed for traditional\n",
        "    Tables.jl.\n",
        "  - **Geometric** transforms operate on the `domain`. They include coordinate\n",
        "    transforms that simply modify the coordinates of points as well as more\n",
        "    advanced transforms that can change the topology of the domain.\n",
        "  - **Geospatial** transforms operate on both the `values` and `domain`.\n",
        "    They include geostatistical transforms and transforms that use other\n",
        "    columns besides the `geometry` column to produce new columns and geometries.\n",
        "\n",
        "In the next chapters, we will review map projections with the `Proj`\n",
        "coordinate transform, and will introduce one of the greatest features of\n",
        "the framework known as **transform pipelines**."
      ],
      "id": "4eea7d3b"
    }
  ],
  "metadata": {
    "kernelspec": {
      "name": "julia-1.10",
      "language": "julia",
      "display_name": "Julia 1.10.3"
    }
  },
  "nbformat": 4,
  "nbformat_minor": 5
}